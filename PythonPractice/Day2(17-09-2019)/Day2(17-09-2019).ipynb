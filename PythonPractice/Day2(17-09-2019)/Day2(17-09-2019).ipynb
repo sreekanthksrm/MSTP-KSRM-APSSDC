{
 "cells": [
  {
   "cell_type": "markdown",
   "metadata": {},
   "source": [
    "# day objectives:\n",
    "- python introduction\n",
    "- variables\n",
    "- operators\n",
    "- string and string functions"
   ]
  },
  {
   "cell_type": "markdown",
   "metadata": {},
   "source": [
    "## python introduction\n",
    "### for defining python\n",
    "- Highlevel programing  language\n",
    "- interpreter \n",
    "- oop's\n",
    "- multipurpose\n",
    "- Dynamic"
   ]
  },
  {
   "cell_type": "markdown",
   "metadata": {},
   "source": [
    "# Variables\n",
    "- we can store values teporarly\n",
    "### variable assignments\n",
    "- asssigning single value to multiple variables\n",
    "- assigning different values to different variables in a line\n",
    "- by using second way i can perform swapping with out using temp"
   ]
  },
  {
   "cell_type": "code",
   "execution_count": 16,
   "metadata": {},
   "outputs": [
    {
     "name": "stdout",
     "output_type": "stream",
     "text": [
      "<class 'str'>\n",
      "<class 'float'>\n",
      "<class 'int'>\n"
     ]
    }
   ],
   "source": [
    "name,age,rollno=\"apssdc\",24.5,126365\n",
    "print(type(name))\n",
    "print(type(age))\n",
    "print(type(rollno))\n"
   ]
  },
  {
   "cell_type": "code",
   "execution_count": 18,
   "metadata": {},
   "outputs": [
    {
     "name": "stdout",
     "output_type": "stream",
     "text": [
      "apssdc <class 'str'>\n",
      "24.5 <class 'float'>\n",
      "126365 <class 'int'>\n"
     ]
    }
   ],
   "source": [
    "print(name,type(name))\n",
    "print(age,type(age))\n",
    "print(rollno,type(rollno))\n"
   ]
  },
  {
   "cell_type": "code",
   "execution_count": 20,
   "metadata": {},
   "outputs": [
    {
     "name": "stdout",
     "output_type": "stream",
     "text": [
      "10 20\n",
      "20 10\n"
     ]
    }
   ],
   "source": [
    "a,b=10,20\n",
    "print(a,b)\n",
    "a,b=b,a\n",
    "print(a,b)"
   ]
  },
  {
   "cell_type": "markdown",
   "metadata": {},
   "source": [
    "# reading values from user\n",
    "- in python we can use input() for reading values from user\n"
   ]
  },
  {
   "cell_type": "code",
   "execution_count": 21,
   "metadata": {},
   "outputs": [
    {
     "name": "stdout",
     "output_type": "stream",
     "text": [
      "enter a value256\n"
     ]
    },
    {
     "data": {
      "text/plain": [
       "'256'"
      ]
     },
     "execution_count": 21,
     "metadata": {},
     "output_type": "execute_result"
    }
   ],
   "source": [
    "a= input(\"enter a value\")\n",
    "a"
   ]
  },
  {
   "cell_type": "code",
   "execution_count": 24,
   "metadata": {},
   "outputs": [
    {
     "name": "stdout",
     "output_type": "stream",
     "text": [
      "enter a number56\n",
      "<class 'float'>\n"
     ]
    }
   ],
   "source": [
    "b=float(input(\"enter a number\"))\n",
    "print(type(b))"
   ]
  },
  {
   "cell_type": "code",
   "execution_count": 1,
   "metadata": {},
   "outputs": [
    {
     "name": "stdout",
     "output_type": "stream",
     "text": [
      "enter namesanab\n",
      "welcome sanab\n"
     ]
    }
   ],
   "source": [
    "name =str(input(\"enter name\"))\n",
    "print(\"welcome\",name)"
   ]
  },
  {
   "cell_type": "markdown",
   "metadata": {},
   "source": [
    "### modes of execution \n",
    "- we have 2 ways\n",
    "  - interactive mode\n",
    "    - we can write something and we can see result there only\n",
    "  - scripting mode\n",
    "    - we can build logic in file.py"
   ]
  },
  {
   "cell_type": "markdown",
   "metadata": {},
   "source": [
    "#  Operators\n",
    "- we can perform arithmetic and logical operations\n",
    "## types:\n",
    "- Aithmetic operations--> +,-,*,/,%,//\n",
    "\n",
    "- Relational operator--> <,<=,>,>=,==,!=\n",
    "    - compare two numbers\n",
    "    \n",
    "- logical operators--> and,or,not\n",
    "  - we can compare two conditions\n",
    "  \n",
    "- bitwise operators--> &,|,<<,>>\n",
    "\n",
    "- membership operators--> in,\n",
    "\n",
    "- identity operator--> is,\n",
    "\n",
    "- Assignment operators--> +=,-=,*=,/+,//=,**=,<=,>="
   ]
  },
  {
   "cell_type": "code",
   "execution_count": 2,
   "metadata": {},
   "outputs": [
    {
     "data": {
      "text/plain": [
       "True"
      ]
     },
     "execution_count": 2,
     "metadata": {},
     "output_type": "execute_result"
    }
   ],
   "source": [
    "3<8"
   ]
  },
  {
   "cell_type": "code",
   "execution_count": 6,
   "metadata": {},
   "outputs": [
    {
     "data": {
      "text/plain": [
       "'raviraviraviraviravi'"
      ]
     },
     "execution_count": 6,
     "metadata": {},
     "output_type": "execute_result"
    }
   ],
   "source": [
    "\"ravi\" *5"
   ]
  },
  {
   "cell_type": "code",
   "execution_count": 8,
   "metadata": {},
   "outputs": [
    {
     "data": {
      "text/plain": [
       "2"
      ]
     },
     "execution_count": 8,
     "metadata": {},
     "output_type": "execute_result"
    }
   ],
   "source": [
    "2&3\n",
    "# \"\"\"\n",
    "# 2==>0010\n",
    "# 3==>0011\n",
    "# ========\n",
    "#     0010==>2"
   ]
  },
  {
   "cell_type": "code",
   "execution_count": 9,
   "metadata": {},
   "outputs": [
    {
     "data": {
      "text/plain": [
       "4"
      ]
     },
     "execution_count": 9,
     "metadata": {},
     "output_type": "execute_result"
    }
   ],
   "source": [
    "2<<1\n"
   ]
  },
  {
   "cell_type": "code",
   "execution_count": 10,
   "metadata": {},
   "outputs": [
    {
     "data": {
      "text/plain": [
       "1"
      ]
     },
     "execution_count": 10,
     "metadata": {},
     "output_type": "execute_result"
    }
   ],
   "source": [
    "2>>1"
   ]
  },
  {
   "cell_type": "code",
   "execution_count": 11,
   "metadata": {},
   "outputs": [
    {
     "data": {
      "text/plain": [
       "True"
      ]
     },
     "execution_count": 11,
     "metadata": {},
     "output_type": "execute_result"
    }
   ],
   "source": [
    "arr=[1,2,5,4,6]\n",
    "5 in arr\n"
   ]
  },
  {
   "cell_type": "code",
   "execution_count": 13,
   "metadata": {},
   "outputs": [
    {
     "data": {
      "text/plain": [
       "140707679671136"
      ]
     },
     "execution_count": 13,
     "metadata": {},
     "output_type": "execute_result"
    }
   ],
   "source": [
    "id(2)"
   ]
  }
 ],
 "metadata": {
  "kernelspec": {
   "display_name": "Python 3",
   "language": "python",
   "name": "python3"
  },
  "language_info": {
   "codemirror_mode": {
    "name": "ipython",
    "version": 3
   },
   "file_extension": ".py",
   "mimetype": "text/x-python",
   "name": "python",
   "nbconvert_exporter": "python",
   "pygments_lexer": "ipython3",
   "version": "3.7.3"
  }
 },
 "nbformat": 4,
 "nbformat_minor": 2
}
