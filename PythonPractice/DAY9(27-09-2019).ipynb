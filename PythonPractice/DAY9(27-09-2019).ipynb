{
 "cells": [
  {
   "cell_type": "code",
   "execution_count": 1,
   "metadata": {},
   "outputs": [
    {
     "name": "stdout",
     "output_type": "stream",
     "text": [
      "2\n",
      "-5 9 8 -10 -78 -100 10\n",
      "166\n",
      "-89 9 81 78 -99 -1 -989\n",
      "1010\n"
     ]
    }
   ],
   "source": [
    "# Additive inverse \n",
    "\n",
    "n = int(input())\n",
    "for i in range(n):\n",
    "    sm=0\n",
    "    s = input().split()\n",
    "    for j in s:\n",
    "        sm += int(j)*-1\n",
    "    print(sm)    \n",
    "    "
   ]
  },
  {
   "cell_type": "code",
   "execution_count": 2,
   "metadata": {},
   "outputs": [
    {
     "name": "stdout",
     "output_type": "stream",
     "text": [
      "2\n",
      "hai\n",
      "ibj\n",
      "hai hbkjcbf$$\n",
      "ibj iclkdcg$$\n"
     ]
    }
   ],
   "source": [
    "# Encryption \n",
    "n = int(input())\n",
    "for i in range(n):\n",
    "    s = input()\n",
    "    string = \"\"\n",
    "    for ch in s:\n",
    "        if ch.isalpha():\n",
    "            string +=chr(ord(ch)+1)\n",
    "        else:\n",
    "            string +=ch\n",
    "    print(string)       "
   ]
  },
  {
   "cell_type": "markdown",
   "metadata": {},
   "source": [
    "# files\n",
    "- collection of data \n",
    "- file types:\n",
    "   - .csv\n",
    "   - .txt\n",
    "   - .pdf\n",
    "   - .html\n",
    "   - .exe\n",
    "## procedure to work on files:\n",
    "- need to open a file\n",
    "- based on requirement we can perform related action\n",
    "- close file\n",
    "#### modes of files:\n",
    " "
   ]
  },
  {
   "cell_type": "code",
   "execution_count": 5,
   "metadata": {},
   "outputs": [
    {
     "name": "stdout",
     "output_type": "stream",
     "text": [
      "hi,\n",
      "hello,\n",
      "welocome to apssdc.\n",
      "\n"
     ]
    }
   ],
   "source": [
    "fh = open('mydata.txt')\n",
    "print(fh.read())"
   ]
  },
  {
   "cell_type": "code",
   "execution_count": 8,
   "metadata": {},
   "outputs": [
    {
     "name": "stdout",
     "output_type": "stream",
     "text": [
      "hi,\n",
      "hello,\n",
      "welocome to apssdc.\n"
     ]
    }
   ],
   "source": [
    "fh = open('mydata.txt')\n",
    "for line in fh:\n",
    "    print(line.rstrip())\n",
    "fh.close()"
   ]
  },
  {
   "cell_type": "code",
   "execution_count": 15,
   "metadata": {},
   "outputs": [],
   "source": [
    "fh = open('mydata1.txt','w')\n",
    "txt = \"i am from apssdc\"\n",
    "fh.write(txt)\n",
    "fh.close()\n"
   ]
  },
  {
   "cell_type": "code",
   "execution_count": 16,
   "metadata": {},
   "outputs": [],
   "source": [
    "fh = open('mydata1.txt','a')\n",
    "txt = \"i am from ksrmce\"\n",
    "fh.write(\"\\n\"+txt)\n",
    "fh.close()\n"
   ]
  },
  {
   "cell_type": "code",
   "execution_count": 19,
   "metadata": {},
   "outputs": [
    {
     "name": "stdout",
     "output_type": "stream",
     "text": [
      "hai\n",
      "hello\n",
      "how r u\n",
      "i am from ksrm.\n"
     ]
    }
   ],
   "source": [
    "path = 'textfiles/sample.txt'\n",
    "with open(path) as fh:\n",
    "    print(fh.read())\n",
    "    "
   ]
  },
  {
   "cell_type": "code",
   "execution_count": 20,
   "metadata": {},
   "outputs": [
    {
     "name": "stdout",
     "output_type": "stream",
     "text": [
      "hai\n",
      "hello\n",
      "how r u\n",
      "i am from ksrm.\n"
     ]
    }
   ],
   "source": [
    "path = 'textfiles/sample.txt'\n",
    "with open(path) as fh\n",
    "    for line in fh:\n",
    "        print(line.rstrip())\n"
   ]
  },
  {
   "cell_type": "code",
   "execution_count": 4,
   "metadata": {},
   "outputs": [
    {
     "name": "stdout",
     "output_type": "stream",
     "text": [
      "jbvfkd\n",
      "6\n"
     ]
    }
   ],
   "source": [
    "path ='textfiles/sample.txt'\n",
    "with open(path,'w') as fh:\n",
    "    n=input()\n",
    "    print(fh.write(n))"
   ]
  },
  {
   "cell_type": "markdown",
   "metadata": {},
   "source": []
  }
 ],
 "metadata": {
  "kernelspec": {
   "display_name": "Python 3",
   "language": "python",
   "name": "python3"
  },
  "language_info": {
   "codemirror_mode": {
    "name": "ipython",
    "version": 3
   },
   "file_extension": ".py",
   "mimetype": "text/x-python",
   "name": "python",
   "nbconvert_exporter": "python",
   "pygments_lexer": "ipython3",
   "version": "3.7.3"
  }
 },
 "nbformat": 4,
 "nbformat_minor": 2
}
