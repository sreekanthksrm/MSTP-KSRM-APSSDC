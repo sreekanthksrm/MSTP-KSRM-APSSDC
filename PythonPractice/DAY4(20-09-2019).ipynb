{
 "cells": [
  {
   "cell_type": "markdown",
   "metadata": {},
   "source": [
    "# Day Objectives\n",
    "- user Defined functions\n",
    "  -user can build his own logic\n",
    "  "
   ]
  },
  {
   "cell_type": "code",
   "execution_count": 5,
   "metadata": {},
   "outputs": [
    {
     "name": "stdout",
     "output_type": "stream",
     "text": [
      "hello\n",
      "hi\n",
      "over\n"
     ]
    }
   ],
   "source": [
    "def fun_name():\n",
    "    print(\"hello\")\n",
    "    print(\"hi\")\n",
    "fun_name()\n",
    "print(\"over\")"
   ]
  },
  {
   "cell_type": "code",
   "execution_count": 6,
   "metadata": {},
   "outputs": [
    {
     "name": "stdout",
     "output_type": "stream",
     "text": [
      " without passing arguments and without return\n"
     ]
    }
   ],
   "source": [
    "# without passing arguments and without return\n",
    "def show():\n",
    "    print(\" without passing arguments and without return\")\n",
    "show()"
   ]
  },
  {
   "cell_type": "code",
   "execution_count": 7,
   "metadata": {},
   "outputs": [
    {
     "data": {
      "text/plain": [
       "'bye'"
      ]
     },
     "execution_count": 7,
     "metadata": {},
     "output_type": "execute_result"
    }
   ],
   "source": [
    "# without passing arguments and return result\n",
    "def display():\n",
    "    return \"bye\"\n",
    "display()"
   ]
  },
  {
   "cell_type": "code",
   "execution_count": 8,
   "metadata": {},
   "outputs": [
    {
     "name": "stdout",
     "output_type": "stream",
     "text": [
      "bye\n"
     ]
    }
   ],
   "source": [
    "def display():\n",
    "    return \"bye\"\n",
    "print(display())"
   ]
  },
  {
   "cell_type": "code",
   "execution_count": 14,
   "metadata": {},
   "outputs": [
    {
     "name": "stdout",
     "output_type": "stream",
     "text": [
      "bye\n"
     ]
    }
   ],
   "source": [
    "def display():\n",
    "    return \"bye\"\n",
    "rs=display()\n",
    "print(rs)"
   ]
  },
  {
   "cell_type": "code",
   "execution_count": 16,
   "metadata": {},
   "outputs": [
    {
     "name": "stdout",
     "output_type": "stream",
     "text": [
      "addition of num1 and num2 is 11\n"
     ]
    }
   ],
   "source": [
    "# passing arguments and without return \n",
    "def add(num1,num2):\n",
    "    print(\"addition of num1 and num2 is\",num1+num2)\n",
    "add(5,6)"
   ]
  },
  {
   "cell_type": "code",
   "execution_count": 28,
   "metadata": {},
   "outputs": [
    {
     "name": "stdout",
     "output_type": "stream",
     "text": [
      "mul of n1 and n2 is: 20\n"
     ]
    }
   ],
   "source": [
    "# passing arguments return result\n",
    "def mul(n1,n2):\n",
    "    return n1*n2\n",
    "print(\"mul of n1 and n2 is:\",mul(4,5))"
   ]
  },
  {
   "cell_type": "code",
   "execution_count": 39,
   "metadata": {},
   "outputs": [
    {
     "name": "stdout",
     "output_type": "stream",
     "text": [
      "enter a value3\n",
      "enter b value2\n",
      "additin of a and b is: 5\n",
      "subtraction of a and b is: 1\n",
      "multiplication  of a and b is: 6\n",
      "division of a and b is: 6\n"
     ]
    }
   ],
   "source": [
    "a=int(input(\"enter a value\"))\n",
    "b=int(input(\"enter b value\"))      \n",
    "def display(a,b):\n",
    "    return a+b\n",
    "rs= display(a,b)\n",
    "print(\"additin of a and b is:\",rs)\n",
    "def sub(a,b):\n",
    "    return a-b\n",
    "rs= sub(a,b)\n",
    "print(\"subtraction of a and b is:\",rs)\n",
    "def mul(a,b):\n",
    "    return a*b\n",
    "rs=mul(a,b)\n",
    "print(\"multiplication  of a and b is:\",rs)\n",
    "def div(a,b):\n",
    "    return a*b\n",
    "rs=div(a,b)\n",
    "print(\"division of a and b is:\",rs)"
   ]
  },
  {
   "cell_type": "markdown",
   "metadata": {},
   "source": [
    "# other functions in function\n",
    " - default arguments\n",
    " - required arguments\n",
    " - keyword arguments\n",
    " - variable length arguments"
   ]
  },
  {
   "cell_type": "code",
   "execution_count": 40,
   "metadata": {},
   "outputs": [
    {
     "name": "stdout",
     "output_type": "stream",
     "text": [
      "hello\n",
      "hii\n",
      "apssdc mstp\n"
     ]
    }
   ],
   "source": [
    "# default arguments\n",
    "print(\"hello\")\n",
    "print(\"hii\")\n",
    "print(\"apssdc mstp\")"
   ]
  },
  {
   "cell_type": "code",
   "execution_count": 44,
   "metadata": {},
   "outputs": [
    {
     "name": "stdout",
     "output_type": "stream",
     "text": [
      "6 2 11 18\n"
     ]
    }
   ],
   "source": [
    "def add(n1=0,n2=0,n3=0,n4=0):\n",
    "    return n1+n2+n3+n4\n",
    "print(add(2,4),add(2),add(2,6,3),add(2,6,3,7))\n"
   ]
  },
  {
   "cell_type": "code",
   "execution_count": 51,
   "metadata": {},
   "outputs": [
    {
     "name": "stdout",
     "output_type": "stream",
     "text": [
      "20\n"
     ]
    }
   ],
   "source": [
    "# required arguments\n",
    "def mul(a,b):\n",
    "        return a*b\n",
    "print(mul(5,4))"
   ]
  },
  {
   "cell_type": "code",
   "execution_count": 53,
   "metadata": {},
   "outputs": [
    {
     "name": "stdout",
     "output_type": "stream",
     "text": [
      "64\n"
     ]
    }
   ],
   "source": [
    "# keyword arguments\n",
    "# example of this arguments is print(end=\",\")\n",
    "def power(base,exp=0):\n",
    "    return base**exp\n",
    "print(power(exp=6,base=2))\n",
    "    \n"
   ]
  },
  {
   "cell_type": "code",
   "execution_count": 55,
   "metadata": {},
   "outputs": [
    {
     "name": "stdout",
     "output_type": "stream",
     "text": [
      "7 <class 'tuple'>\n"
     ]
    }
   ],
   "source": [
    "# variable length arguments\n",
    "def sm(*vals):\n",
    "    print(len(vals),type(vals))\n",
    "    print(\"sum of vals is:\",sum(vals))\n",
    "sm(1,2,3,5,4,7,8)"
   ]
  },
  {
   "cell_type": "markdown",
   "metadata": {},
   "source": [
    "# conditional control statements\n",
    "- it controls flow of program execution based on condition\n",
    "- 3 types\n",
    "  - conditional statements \n",
    "  - iterative statements or looping statements\n",
    "  - jumping statements\n",
    "  "
   ]
  },
  {
   "cell_type": "code",
   "execution_count": 56,
   "metadata": {},
   "outputs": [
    {
     "name": "stdout",
     "output_type": "stream",
     "text": [
      "4 is smaller than 5\n"
     ]
    }
   ],
   "source": [
    "if(4<5):\n",
    "    print(\"4 is smaller than 5\")"
   ]
  },
  {
   "cell_type": "code",
   "execution_count": 60,
   "metadata": {},
   "outputs": [
    {
     "ename": "SyntaxError",
     "evalue": "invalid syntax (<ipython-input-60-ceffe9aabe32>, line 3)",
     "output_type": "error",
     "traceback": [
      "\u001b[1;36m  File \u001b[1;32m\"<ipython-input-60-ceffe9aabe32>\"\u001b[1;36m, line \u001b[1;32m3\u001b[0m\n\u001b[1;33m    elif:\u001b[0m\n\u001b[1;37m        ^\u001b[0m\n\u001b[1;31mSyntaxError\u001b[0m\u001b[1;31m:\u001b[0m invalid syntax\n"
     ]
    }
   ],
   "source": [
    "if(4<5):\n",
    "    print(\"if ur in if block\")\n",
    "elif:\n",
    "    print(\"if ur in elif block\")\n",
    "else:\n",
    "    print(\"if ur in else block\")"
   ]
  },
  {
   "cell_type": "code",
   "execution_count": null,
   "metadata": {},
   "outputs": [],
   "source": []
  }
 ],
 "metadata": {
  "kernelspec": {
   "display_name": "Python 3",
   "language": "python",
   "name": "python3"
  },
  "language_info": {
   "codemirror_mode": {
    "name": "ipython",
    "version": 3
   },
   "file_extension": ".py",
   "mimetype": "text/x-python",
   "name": "python",
   "nbconvert_exporter": "python",
   "pygments_lexer": "ipython3",
   "version": "3.7.3"
  }
 },
 "nbformat": 4,
 "nbformat_minor": 2
}
