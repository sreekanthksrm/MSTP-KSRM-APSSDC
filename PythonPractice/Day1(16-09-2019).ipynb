{
 "cells": [
  {
   "cell_type": "markdown",
   "metadata": {},
   "source": [
    "# 16-09-2019 Day objectives:\n",
    "- anaconda installation\n",
    "- about anaconda navigator\n",
    "- difference between python idle and jupitor notebook\n",
    "- about jupytor notebook\n",
    "- using jupytor notebook\n",
    "- code mode and markdown mode"
   ]
  },
  {
   "cell_type": "code",
   "execution_count": 8,
   "metadata": {},
   "outputs": [
    {
     "name": "stdout",
     "output_type": "stream",
     "text": [
      "welcome to mstp\n",
      "i am from ksrm\n",
      "studying fourth year\n"
     ]
    }
   ],
   "source": [
    "print(\"welcome to mstp\")\n",
    "print(\"i am from ksrm\")\n",
    "print(\"studying fourth year\")"
   ]
  },
  {
   "cell_type": "code",
   "execution_count": 5,
   "metadata": {},
   "outputs": [
    {
     "data": {
      "text/plain": [
       "5"
      ]
     },
     "execution_count": 5,
     "metadata": {},
     "output_type": "execute_result"
    }
   ],
   "source": [
    "2+3\n"
   ]
  },
  {
   "cell_type": "code",
   "execution_count": 7,
   "metadata": {},
   "outputs": [
    {
     "data": {
      "text/plain": [
       "11"
      ]
     },
     "execution_count": 7,
     "metadata": {},
     "output_type": "execute_result"
    }
   ],
   "source": [
    "4+7"
   ]
  },
  {
   "cell_type": "markdown",
   "metadata": {},
   "source": [
    "# it will print like a header1 tag\n",
    "## Header2 tag\n",
    "### header3 tag\n",
    "#### headrer4 tag\n",
    "##### header 5 tag\n",
    " \n",
    "   <p>i am using paragraph tag</p>\n",
    "   <p><b>paragraph with bold</b></p>\n",
    "   <img src=\"pyth.png\" height=\"150px\" width=\"150px\">\n",
    "   \n",
    "   # html list\n",
    "   - unordered list\n",
    "       - ul tag with li tag\n",
    "   - ordered list\n",
    "       - ol tag with li tag\n",
    "       \n",
    "       <a href=\"pyth.png\">click here</a>"
   ]
  },
  {
   "cell_type": "code",
   "execution_count": null,
   "metadata": {},
   "outputs": [],
   "source": []
  }
 ],
 "metadata": {
  "kernelspec": {
   "display_name": "Python 3",
   "language": "python",
   "name": "python3"
  },
  "language_info": {
   "codemirror_mode": {
    "name": "ipython",
    "version": 3
   },
   "file_extension": ".py",
   "mimetype": "text/x-python",
   "name": "python",
   "nbconvert_exporter": "python",
   "pygments_lexer": "ipython3",
   "version": "3.7.3"
  }
 },
 "nbformat": 4,
 "nbformat_minor": 2
}
