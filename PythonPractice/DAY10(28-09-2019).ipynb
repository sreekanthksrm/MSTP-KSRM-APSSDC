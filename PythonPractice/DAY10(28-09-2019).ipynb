{
 "cells": [
  {
   "cell_type": "markdown",
   "metadata": {},
   "source": [
    "# contact application\n",
    "- create contact.txt\n",
    "- read valid name,mobile numbers from user then store in contact.txt(before storing perform validations using re)\n"
   ]
  },
  {
   "cell_type": "code",
   "execution_count": 7,
   "metadata": {},
   "outputs": [
    {
     "name": "stdout",
     "output_type": "stream",
     "text": [
      "enter a name:sam\n",
      "enter mobile number:9876543209\n",
      "contact saving is succcessful\n"
     ]
    }
   ],
   "source": [
    "import re\n",
    "fh = \"contact.txt\"\n",
    "def isvalidname(name):\n",
    "    if re.search('^[a-zA-Z ]{3,30}$',name):\n",
    "        return True\n",
    "    return False\n",
    "def isvalidnum(phno):\n",
    "    if re.search('^[6-9][0-9]{9}$',phno):\n",
    "        return True\n",
    "    return False\n",
    "def createcontact(name,phno):\n",
    "    if isvalidname(name) and isvalidnum(phno):\n",
    "        with open(fh,'a') as fd:\n",
    "            fd.write(\"\\n\"+name+\"\\t\"+phno)\n",
    "            print(\"contact saving is succcessful\")\n",
    "    else:\n",
    "        print(\"enter a correct name and mobile number\")\n",
    "    return   \n",
    "name = input(\"enter a name:\")\n",
    "phno = input(\"enter mobile number:\")\n",
    "createcontact(name,phno)\n"
   ]
  },
  {
   "cell_type": "code",
   "execution_count": 8,
   "metadata": {},
   "outputs": [
    {
     "name": "stdout",
     "output_type": "stream",
     "text": [
      "\n",
      "abdul\t9856230147\n",
      "ravi\t9874563214\n",
      "sam\t9876543209\n"
     ]
    }
   ],
   "source": [
    "fh = \"contact.txt\"\n",
    "def showcontacts(fh):\n",
    "    with open(fh) as fd:\n",
    "        print(fd.read())\n",
    "showcontacts(fh)"
   ]
  },
  {
   "cell_type": "code",
   "execution_count": 15,
   "metadata": {},
   "outputs": [
    {
     "name": "stdout",
     "output_type": "stream",
     "text": [
      "enter a name:ravi\n",
      "9874563214\n"
     ]
    }
   ],
   "source": [
    "fh = \"contact.txt\"\n",
    "def searchcontact(name):\n",
    "    with open(fh,'r') as fd:\n",
    "        for line in fd:\n",
    "            line = line.split()\n",
    "            if line[0]== name:\n",
    "                print(line[1])\n",
    "name = input(\"enter a name:\")\n",
    "searchcontact(name)"
   ]
  },
  {
   "cell_type": "code",
   "execution_count": 17,
   "metadata": {},
   "outputs": [
    {
     "data": {
      "text/plain": [
       "39"
      ]
     },
     "execution_count": 17,
     "metadata": {},
     "output_type": "execute_result"
    }
   ],
   "source": [
    "import random\n",
    "random.randint(0,100)\n"
   ]
  },
  {
   "cell_type": "code",
   "execution_count": 27,
   "metadata": {},
   "outputs": [],
   "source": [
    "import random \n",
    "fh = \"marks.txt\"\n",
    "def marksgenerate():\n",
    "    for i in range(60):\n",
    "        score = random.randint(0,100)\n",
    "        with open(fh,'a') as fd:\n",
    "            fd.write(str(score)+\"\\n\")\n",
    "marksgenerate()  "
   ]
  },
  {
   "cell_type": "code",
   "execution_count": null,
   "metadata": {},
   "outputs": [],
   "source": []
  }
 ],
 "metadata": {
  "kernelspec": {
   "display_name": "Python 3",
   "language": "python",
   "name": "python3"
  },
  "language_info": {
   "codemirror_mode": {
    "name": "ipython",
    "version": 3
   },
   "file_extension": ".py",
   "mimetype": "text/x-python",
   "name": "python",
   "nbconvert_exporter": "python",
   "pygments_lexer": "ipython3",
   "version": "3.7.3"
  }
 },
 "nbformat": 4,
 "nbformat_minor": 2
}
