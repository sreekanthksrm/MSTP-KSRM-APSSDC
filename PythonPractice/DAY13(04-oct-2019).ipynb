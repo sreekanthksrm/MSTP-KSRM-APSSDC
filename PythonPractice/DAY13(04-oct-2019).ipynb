{
 "cells": [
  {
   "cell_type": "markdown",
   "metadata": {},
   "source": [
    "### DIGITS REVERSE\n"
   ]
  },
  {
   "cell_type": "code",
   "execution_count": 1,
   "metadata": {},
   "outputs": [
    {
     "name": "stdout",
     "output_type": "stream",
     "text": [
      "5826\n",
      "6\n",
      "2\n",
      "8\n",
      "5\n"
     ]
    }
   ],
   "source": [
    "s = input()\n",
    "for i in s[::-1]:\n",
    "    print(i)"
   ]
  },
  {
   "cell_type": "code",
   "execution_count": 1,
   "metadata": {},
   "outputs": [
    {
     "name": "stdout",
     "output_type": "stream",
     "text": [
      "2\n",
      "9579685748\n",
      "6398757894\n",
      "+91-(639)-875-7894\n",
      "+91-(957)-968-5748\n"
     ]
    }
   ],
   "source": [
    "n = int(input())\n",
    "nums = []\n",
    "for  i in range(n):\n",
    "    num = input()\n",
    "    if num.startswith('0'):\n",
    "        nums.append(num[1:])\n",
    "    elif(num.startswith('+91')):\n",
    "        nums.append(num[3:])\n",
    "    elif(num.startswith('91')):\n",
    "        nums.append(num[2:])\n",
    "    else:\n",
    "        nums.append(num)\n",
    "nums.sort()\n",
    "for num in nums:\n",
    "    print(\"+91-(\"+num[0:3]+\")-\"+num[3:6]+\"-\"+num[6:])"
   ]
  },
  {
   "cell_type": "code",
   "execution_count": null,
   "metadata": {},
   "outputs": [],
   "source": []
  }
 ],
 "metadata": {
  "kernelspec": {
   "display_name": "Python 3",
   "language": "python",
   "name": "python3"
  },
  "language_info": {
   "codemirror_mode": {
    "name": "ipython",
    "version": 3
   },
   "file_extension": ".py",
   "mimetype": "text/x-python",
   "name": "python",
   "nbconvert_exporter": "python",
   "pygments_lexer": "ipython3",
   "version": "3.7.3"
  }
 },
 "nbformat": 4,
 "nbformat_minor": 2
}
